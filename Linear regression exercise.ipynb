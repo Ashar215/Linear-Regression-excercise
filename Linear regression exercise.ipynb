{
 "cells": [
  {
   "cell_type": "markdown",
   "metadata": {},
   "source": [
    "# Linear Regression Exercise"
   ]
  },
  {
   "cell_type": "markdown",
   "metadata": {},
   "source": [
    "A scenario of a ship manufacturing company that builds cruise liners. Currently, they are building new ships for some customers, and they want you, as a data scientist, to help them with estimating how many crew members a ship will require. They stored all the previous data related to their cruses in a csv file for your reference.\n",
    "\n",
    "You should create a regression model that will help predict how many crew members will be required for the new ships. The design team also declared that they have found that particular cruise lines will differ in acceptable crew counts, so it seems it is a critical feature to include in your linear regression model. In the end, evaluate the performance of your model.\n"
   ]
  },
  {
   "cell_type": "code",
   "execution_count": 1,
   "metadata": {},
   "outputs": [],
   "source": [
    "#First, import all the necessary package\n",
    "import pyspark\n",
    "import os\n",
    "import sys\n",
    "os.environ[\"JAVA_HOME\"] = \"C:\\Program Files\\Java\\jre1.8.0_301\"\n",
    "os.environ[\"SPARK_HOME\"] = \"C:\\spark\\spark-3.1.2-bin-hadoop3.2\"\n",
    "os.environ[\"PYLIB\"] = os.environ[\"SPARK_HOME\"] + \"\\python\\lib\"\n",
    "from pyspark.sql import SparkSession\n",
    "\n",
    "import pyspark\n",
    "from pyspark.sql.functions import *\n",
    "from pyspark.ml.feature import VectorAssembler\n",
    "from pyspark.ml.feature import StringIndexer\n",
    "\n",
    "from pyspark.ml.regression import LinearRegression\n",
    "from pyspark.ml.feature import VectorAssembler"
   ]
  },
  {
   "cell_type": "code",
   "execution_count": 2,
   "metadata": {},
   "outputs": [],
   "source": [
    "spark = SparkSession.builder.appName('cruise').getOrCreate()"
   ]
  },
  {
   "cell_type": "code",
   "execution_count": 3,
   "metadata": {},
   "outputs": [],
   "source": [
    "df = spark.read.csv('cruise_ship_info.csv',inferSchema = True, header = True)"
   ]
  },
  {
   "cell_type": "code",
   "execution_count": 4,
   "metadata": {},
   "outputs": [
    {
     "name": "stdout",
     "output_type": "stream",
     "text": [
      "root\n",
      " |-- Ship_name: string (nullable = true)\n",
      " |-- Cruise_line: string (nullable = true)\n",
      " |-- Age: integer (nullable = true)\n",
      " |-- Tonnage: double (nullable = true)\n",
      " |-- passengers: double (nullable = true)\n",
      " |-- length: double (nullable = true)\n",
      " |-- cabins: double (nullable = true)\n",
      " |-- passenger_density: double (nullable = true)\n",
      " |-- crew: double (nullable = true)\n",
      "\n"
     ]
    }
   ],
   "source": [
    "df.printSchema()"
   ]
  },
  {
   "cell_type": "code",
   "execution_count": 5,
   "metadata": {},
   "outputs": [
    {
     "name": "stdout",
     "output_type": "stream",
     "text": [
      "+-----------+-----------+---+------------------+----------+------+------+-----------------+----+\n",
      "|  Ship_name|Cruise_line|Age|           Tonnage|passengers|length|cabins|passenger_density|crew|\n",
      "+-----------+-----------+---+------------------+----------+------+------+-----------------+----+\n",
      "|    Journey|    Azamara|  6|30.276999999999997|      6.94|  5.94|  3.55|            42.64|3.55|\n",
      "|      Quest|    Azamara|  6|30.276999999999997|      6.94|  5.94|  3.55|            42.64|3.55|\n",
      "|Celebration|   Carnival| 26|            47.262|     14.86|  7.22|  7.43|             31.8| 6.7|\n",
      "|   Conquest|   Carnival| 11|             110.0|     29.74|  9.53| 14.88|            36.99|19.1|\n",
      "|    Destiny|   Carnival| 17|           101.353|     26.42|  8.92| 13.21|            38.36|10.0|\n",
      "+-----------+-----------+---+------------------+----------+------+------+-----------------+----+\n",
      "only showing top 5 rows\n",
      "\n"
     ]
    }
   ],
   "source": [
    "df.show(5)"
   ]
  },
  {
   "cell_type": "code",
   "execution_count": 8,
   "metadata": {},
   "outputs": [
    {
     "data": {
      "text/plain": [
       "158"
      ]
     },
     "execution_count": 8,
     "metadata": {},
     "output_type": "execute_result"
    }
   ],
   "source": [
    "df.count()"
   ]
  },
  {
   "cell_type": "code",
   "execution_count": 9,
   "metadata": {},
   "outputs": [
    {
     "name": "stdout",
     "output_type": "stream",
     "text": [
      "+-----------+-----------+---+------------------+----------+------+------+-----------------+----+--------------------+\n",
      "|  Ship_name|Cruise_line|Age|           Tonnage|passengers|length|cabins|passenger_density|crew|            features|\n",
      "+-----------+-----------+---+------------------+----------+------+------+-----------------+----+--------------------+\n",
      "|    Journey|    Azamara|  6|30.276999999999997|      6.94|  5.94|  3.55|            42.64|3.55|[6.0,30.276999999...|\n",
      "|      Quest|    Azamara|  6|30.276999999999997|      6.94|  5.94|  3.55|            42.64|3.55|[6.0,30.276999999...|\n",
      "|Celebration|   Carnival| 26|            47.262|     14.86|  7.22|  7.43|             31.8| 6.7|[26.0,47.262,14.8...|\n",
      "|   Conquest|   Carnival| 11|             110.0|     29.74|  9.53| 14.88|            36.99|19.1|[11.0,110.0,29.74...|\n",
      "|    Destiny|   Carnival| 17|           101.353|     26.42|  8.92| 13.21|            38.36|10.0|[17.0,101.353,26....|\n",
      "|    Ecstasy|   Carnival| 22|            70.367|     20.52|  8.55|  10.2|            34.29| 9.2|[22.0,70.367,20.5...|\n",
      "|    Elation|   Carnival| 15|            70.367|     20.52|  8.55|  10.2|            34.29| 9.2|[15.0,70.367,20.5...|\n",
      "|    Fantasy|   Carnival| 23|            70.367|     20.56|  8.55| 10.22|            34.23| 9.2|[23.0,70.367,20.5...|\n",
      "|Fascination|   Carnival| 19|            70.367|     20.52|  8.55|  10.2|            34.29| 9.2|[19.0,70.367,20.5...|\n",
      "|    Freedom|   Carnival|  6|110.23899999999999|      37.0|  9.51| 14.87|            29.79|11.5|[6.0,110.23899999...|\n",
      "|      Glory|   Carnival| 10|             110.0|     29.74|  9.51| 14.87|            36.99|11.6|[10.0,110.0,29.74...|\n",
      "|    Holiday|   Carnival| 28|            46.052|     14.52|  7.27|  7.26|            31.72| 6.6|[28.0,46.052,14.5...|\n",
      "|Imagination|   Carnival| 18|            70.367|     20.52|  8.55|  10.2|            34.29| 9.2|[18.0,70.367,20.5...|\n",
      "|Inspiration|   Carnival| 17|            70.367|     20.52|  8.55|  10.2|            34.29| 9.2|[17.0,70.367,20.5...|\n",
      "|     Legend|   Carnival| 11|              86.0|     21.24|  9.63| 10.62|            40.49| 9.3|[11.0,86.0,21.24,...|\n",
      "|   Liberty*|   Carnival|  8|             110.0|     29.74|  9.51| 14.87|            36.99|11.6|[8.0,110.0,29.74,...|\n",
      "|    Miracle|   Carnival|  9|              88.5|     21.24|  9.63| 10.62|            41.67|10.3|[9.0,88.5,21.24,9...|\n",
      "|   Paradise|   Carnival| 15|            70.367|     20.52|  8.55|  10.2|            34.29| 9.2|[15.0,70.367,20.5...|\n",
      "|      Pride|   Carnival| 12|              88.5|     21.24|  9.63| 11.62|            41.67| 9.3|[12.0,88.5,21.24,...|\n",
      "|  Sensation|   Carnival| 20|            70.367|     20.52|  8.55|  10.2|            34.29| 9.2|[20.0,70.367,20.5...|\n",
      "+-----------+-----------+---+------------------+----------+------+------+-----------------+----+--------------------+\n",
      "only showing top 20 rows\n",
      "\n"
     ]
    }
   ],
   "source": [
    "vecAssembler= VectorAssembler(inputCols=[\"Age\",\"Tonnage\",\"passengers\",\"length\",\"cabins\",\"passenger_density\"], \n",
    "                              outputCol=\"features\")\n",
    "vec_df=vecAssembler.transform(df)\n",
    "vec_df.show()"
   ]
  },
  {
   "cell_type": "code",
   "execution_count": 21,
   "metadata": {},
   "outputs": [],
   "source": [
    "splits = vec_df.randomSplit([0.8,0.2],1)\n",
    "train_df=splits[0]\n",
    "test_df=splits[1]"
   ]
  },
  {
   "cell_type": "code",
   "execution_count": 22,
   "metadata": {},
   "outputs": [
    {
     "data": {
      "text/plain": [
       "131"
      ]
     },
     "execution_count": 22,
     "metadata": {},
     "output_type": "execute_result"
    }
   ],
   "source": [
    "train_df.count()"
   ]
  },
  {
   "cell_type": "code",
   "execution_count": 23,
   "metadata": {},
   "outputs": [
    {
     "data": {
      "text/plain": [
       "27"
      ]
     },
     "execution_count": 23,
     "metadata": {},
     "output_type": "execute_result"
    }
   ],
   "source": [
    "test_df.count()"
   ]
  },
  {
   "cell_type": "code",
   "execution_count": 24,
   "metadata": {},
   "outputs": [
    {
     "name": "stdout",
     "output_type": "stream",
     "text": [
      "+---+------------------+----------+------+------+-----------------+-----+------------------+\n",
      "|Age|           Tonnage|passengers|length|cabins|passenger_density| crew|        prediction|\n",
      "+---+------------------+----------+------+------+-----------------+-----+------------------+\n",
      "| 22|             3.341|      0.66|   2.8|  0.33|            50.62| 0.59|1.2773877021825064|\n",
      "| 22|            52.926|     13.02|  7.18|  6.54|            40.65| 6.17| 6.213243878471165|\n",
      "| 19|              16.8|      2.96|  5.14|  1.48|            56.76|  2.1|2.9065385959547583|\n",
      "| 11|             110.0|     29.74|  9.53| 14.88|            36.99| 19.1|11.194009447429984|\n",
      "| 11| 91.62700000000001|     19.74|  9.64|  9.87|            46.42|  9.0|  9.04558031532133|\n",
      "| 16|            74.137|      19.5|  9.16|  9.75|            38.02|  7.6| 8.590749492135874|\n",
      "| 13|             138.0|     31.14|  10.2| 15.57|            44.32|11.76|12.076845669962097|\n",
      "| 27|              12.5|      3.94|  4.36|  0.88|            31.73| 1.46|2.2795990876068712|\n",
      "| 21|            19.093|       8.0|  5.37|   4.0|            23.87|  4.7| 4.032996054578267|\n",
      "| 12|           108.865|     27.58|  9.51|  13.0|            39.47| 11.0|10.426253558905682|\n",
      "| 15|30.276999999999997|      6.84|  5.94|  3.42|            44.26|  4.0| 4.177889781873548|\n",
      "|  8|              91.0|     22.44|  9.65| 11.22|            40.55| 11.0| 9.578677140386578|\n",
      "| 18|              70.0|      18.0|  8.67|   9.0|            38.89|  7.2| 8.032580699436226|\n",
      "| 15|            83.338|      17.5|  9.64|  8.75|            47.62| 9.45| 8.507257568801919|\n",
      "| 31|            35.143|      12.5|  6.69|  5.32|            28.11| 5.35| 5.314135052117577|\n",
      "| 16| 77.71300000000001|     18.82|  8.66|  9.35|            41.29| 9.09| 8.254404214536903|\n",
      "| 29|             33.92|     12.14|  7.04|  6.07|            27.94|  5.3| 5.750609226104935|\n",
      "|  4|             220.0|      54.0| 11.82|  27.0|            40.74| 21.0|18.247742662070532|\n",
      "| 18|            69.153|     18.82|  8.53|  9.14|            36.74| 7.94| 8.017514038812237|\n",
      "| 24|40.053000000000004|     12.87|  5.79|  7.76|            31.12|  7.5|5.9456782185630335|\n",
      "| 25|              42.0|     15.04|  7.08|  7.52|            27.93|  6.3| 6.434991183353846|\n",
      "| 40|              28.0|      11.5|  6.74|   4.0|            24.35|  3.8| 4.731200014728463|\n",
      "| 27|              5.35|      1.67|   4.4|  0.74|            32.04| 0.88| 2.160579118769931|\n",
      "| 12|              91.0|     20.32|  9.65|  9.75|            44.78| 9.99| 8.995217862669309|\n",
      "| 23|            14.745|      3.08|  6.17|  1.56|            47.87|  1.8| 3.364203402614448|\n",
      "|  9|             110.0|     29.74|  9.52| 14.87|            36.99| 11.6| 11.18567953728785|\n",
      "| 20|             50.76|     17.48|  7.54|  8.74|            29.04| 6.14| 7.218930738036912|\n",
      "+---+------------------+----------+------+------+-----------------+-----+------------------+\n",
      "\n"
     ]
    }
   ],
   "source": [
    "lr = LinearRegression(featuresCol='features', labelCol='crew', maxIter=10, regParam=0.3, elasticNetParam=0.8)\n",
    "LinRegModel = lr.fit(train_df)\n",
    "pred_df=LinRegModel.transform(test_df)\n",
    "pred_df.select(['Age','Tonnage','passengers','length','cabins','passenger_density','crew','prediction']).show(100)"
   ]
  },
  {
   "cell_type": "code",
   "execution_count": 25,
   "metadata": {},
   "outputs": [
    {
     "data": {
      "text/plain": [
       "DenseVector([0.0, 0.0113, -0.0, 0.4361, 0.3969, 0.0])"
      ]
     },
     "execution_count": 25,
     "metadata": {},
     "output_type": "execute_result"
    }
   ],
   "source": [
    "LinRegModel.coefficients"
   ]
  },
  {
   "cell_type": "code",
   "execution_count": 26,
   "metadata": {},
   "outputs": [
    {
     "data": {
      "text/plain": [
       "-0.11241710183403018"
      ]
     },
     "execution_count": 26,
     "metadata": {},
     "output_type": "execute_result"
    }
   ],
   "source": [
    "LinRegModel.intercept"
   ]
  },
  {
   "cell_type": "code",
   "execution_count": 27,
   "metadata": {},
   "outputs": [
    {
     "data": {
      "text/plain": [
       "0.9030693429583632"
      ]
     },
     "execution_count": 27,
     "metadata": {},
     "output_type": "execute_result"
    }
   ],
   "source": [
    "LinRegModel.summary.rootMeanSquaredError"
   ]
  },
  {
   "cell_type": "code",
   "execution_count": 28,
   "metadata": {},
   "outputs": [
    {
     "name": "stdout",
     "output_type": "stream",
     "text": [
      "RMSE: 0.903069\n",
      "r2: 0.917466\n"
     ]
    }
   ],
   "source": [
    "trainingSummary = LinRegModel.summary\n",
    "print('RMSE: %f' % trainingSummary.rootMeanSquaredError)\n",
    "print('r2: %f' % trainingSummary.r2)"
   ]
  },
  {
   "cell_type": "code",
   "execution_count": null,
   "metadata": {},
   "outputs": [],
   "source": []
  }
 ],
 "metadata": {
  "kernelspec": {
   "display_name": "Python 3",
   "language": "python",
   "name": "python3"
  },
  "language_info": {
   "codemirror_mode": {
    "name": "ipython",
    "version": 3
   },
   "file_extension": ".py",
   "mimetype": "text/x-python",
   "name": "python",
   "nbconvert_exporter": "python",
   "pygments_lexer": "ipython3",
   "version": "3.8.8"
  }
 },
 "nbformat": 4,
 "nbformat_minor": 2
}
